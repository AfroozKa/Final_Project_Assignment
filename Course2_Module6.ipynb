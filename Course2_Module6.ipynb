{
  "metadata": {
    "kernelspec": {
      "name": "python",
      "display_name": "Python (Pyodide)",
      "language": "python"
    },
    "language_info": {
      "codemirror_mode": {
        "name": "python",
        "version": 3
      },
      "file_extension": ".py",
      "mimetype": "text/x-python",
      "name": "python",
      "nbconvert_exporter": "python",
      "pygments_lexer": "ipython3",
      "version": "3.8"
    }
  },
  "nbformat_minor": 5,
  "nbformat": 4,
  "cells": [
    {
      "id": "41c03ed3-4b33-470a-a102-830d127731e6",
      "cell_type": "markdown",
      "source": "# Exercise 2, Final Project Notebook",
      "metadata": {}
    },
    {
      "id": "365dcf61-0a27-4134-be60-e5a1969fb8b1",
      "cell_type": "markdown",
      "source": "## Exercise 3, Introduction\nThis notebook is created as part of the final project for the Data Science course. It demonstrates various aspects of Data Science using Markdown and code cells.",
      "metadata": {}
    },
    {
      "id": "e0588aac-1fb7-4fe5-ab98-d5c67603a492",
      "cell_type": "markdown",
      "source": "## Exercise 4, Data Science Languages\n- Python\n- R\n- SQL\n- Julia\n- Scala\n- Java\n- C++\n- JavaScript",
      "metadata": {}
    },
    {
      "id": "a2961710-ab98-468f-9067-1e63e9ad0941",
      "cell_type": "markdown",
      "source": "## Exercise 5, Data Science Libraries\n- Pandas\n- NumPy\n- Matplotlib\n- Seaborn\n- Scikit-learn\n- TensorFlow\n- PyTorch\n- ggplot2",
      "metadata": {}
    },
    {
      "id": "cff2a43b-738b-4d1c-9f7f-7336d4570c13",
      "cell_type": "markdown",
      "source": "## Exercise 6, Data Science Tools\n\n- Jupyter Notebook\n- RStudio\n- Apache Spark",
      "metadata": {}
    },
    {
      "id": "09f5eeb3-6b23-4e9c-b3ba-7f2131f8a34d",
      "cell_type": "markdown",
      "source": "## Exercise 7, Arithmetic Expressions\nArithmetic expressions include addition, subtraction, multiplication, and division. Below are examples of basic calculations.",
      "metadata": {}
    },
    {
      "id": "ae76b6af-fae8-409c-acbc-0af17b42f6b4",
      "cell_type": "code",
      "source": "# Exercise 8: Multiplication and Addition\nresult = (3 * 4) + 5\nprint(\"The result is:\", result)",
      "metadata": {
        "trusted": true
      },
      "outputs": [
        {
          "name": "stdout",
          "output_type": "stream",
          "text": "The result is: 17\n"
        }
      ],
      "execution_count": 1
    },
    {
      "id": "b54b2ce3-759d-4ac3-8ca9-c7fcb8a59809",
      "cell_type": "code",
      "source": "# Exercise 9: Convert minutes to hours\nminutes = 180\nhours = minutes / 60\nprint(f\"{minutes} minutes is equal to {hours} hours\")",
      "metadata": {
        "trusted": true
      },
      "outputs": [
        {
          "name": "stdout",
          "output_type": "stream",
          "text": "180 minutes is equal to 3.0 hours\n"
        }
      ],
      "execution_count": 2
    },
    {
      "id": "c6a2f8cb-e619-47c0-ad20-022882c764cd",
      "cell_type": "markdown",
      "source": "## Excersize 10, Objectives\n- Learn how to use JupyterLite Notebook.\n- Understand the use of Markdown and code cells.\n- Practice using basic arithmetic and data conversions in Python.\n- Share a notebook publicly on GitHub.",
      "metadata": {}
    },
    {
      "id": "e4951155-42de-4c4c-b94e-4161abe56d33",
      "cell_type": "markdown",
      "source": "## Excersize 11, Author\nAfrooz Kazemi",
      "metadata": {}
    },
    {
      "id": "4d9df1a6-17cc-47a1-a107-187d72c0a615",
      "cell_type": "code",
      "source": "",
      "metadata": {
        "trusted": true
      },
      "outputs": [],
      "execution_count": null
    }
  ]
}